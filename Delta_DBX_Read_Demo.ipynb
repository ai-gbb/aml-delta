{
  "cells": [
    {
      "cell_type": "code",
      "source": [
        "%pip install deltalake"
      ],
      "outputs": [
        {
          "output_type": "stream",
          "name": "stdout",
          "text": [
            "Collecting deltalake\n",
            "  Downloading deltalake-0.5.0-cp36-abi3-manylinux_2_12_x86_64.manylinux2010_x86_64.whl (7.3 MB)\n",
            "\u001b[K     |████████████████████████████████| 7.3 MB 5.1 MB/s eta 0:00:01\n",
            "\u001b[?25hCollecting pyarrow>=4\n",
            "  Downloading pyarrow-4.0.1-cp36-cp36m-manylinux2014_x86_64.whl (21.9 MB)\n",
            "\u001b[K     |████████████████████████████████| 21.9 MB 59.6 MB/s eta 0:00:01\n",
            "\u001b[?25hRequirement already satisfied: dataclasses; python_version <= \"3.6\" in /anaconda/envs/azureml_py36/lib/python3.6/site-packages (from deltalake) (0.8)\n",
            "Requirement already satisfied: numpy<1.20.0; python_version <= \"3.6\" in /anaconda/envs/azureml_py36/lib/python3.6/site-packages (from deltalake) (1.18.5)\n",
            "\u001b[31mERROR: azureml-opendatasets 1.28.0 has requirement scipy<=1.4.1,>=1.0.0, but you'll have scipy 1.5.2 which is incompatible.\u001b[0m\n",
            "\u001b[31mERROR: azureml-dataset-runtime 1.28.0 has requirement pyarrow<4.0.0,>=0.17.0, but you'll have pyarrow 4.0.1 which is incompatible.\u001b[0m\n",
            "Installing collected packages: pyarrow, deltalake\n",
            "  Attempting uninstall: pyarrow\n",
            "    Found existing installation: pyarrow 3.0.0\n",
            "    Uninstalling pyarrow-3.0.0:\n",
            "      Successfully uninstalled pyarrow-3.0.0\n",
            "Successfully installed deltalake-0.5.0 pyarrow-4.0.1\n",
            "Note: you may need to restart the kernel to use updated packages.\n"
          ]
        }
      ],
      "execution_count": 1,
      "metadata": {},
      "id": "4860a1c8"
    },
    {
      "cell_type": "code",
      "source": [
        "# azureml-core of version 1.0.72 or higher is required\n",
        "from azureml.core import Workspace, Dataset\n",
        "\n",
        "subscription_id = '5763fde3-4253-480c-928f-dfe1e8888a57'\n",
        "resource_group = 'dbx_tech_summit'\n",
        "workspace_name = 'aml_dbx_summit'\n",
        "\n",
        "workspace = Workspace(subscription_id, resource_group, workspace_name)\n",
        "\n",
        "dataset = Dataset.get_by_name(workspace, name='delta_safedriverdataset')\n",
        "dataset.download(target_path='./delta_driver', overwrite=False)"
      ],
      "outputs": [
        {
          "output_type": "execute_result",
          "execution_count": 2,
          "data": {
            "text/plain": "['/mnt/batch/tasks/shared/LS_root/mounts/clusters/deltademocpu/code/delta_driver/_delta_log/00000000000000000000.crc',\n '/mnt/batch/tasks/shared/LS_root/mounts/clusters/deltademocpu/code/delta_driver/_delta_log/00000000000000000000.json',\n '/mnt/batch/tasks/shared/LS_root/mounts/clusters/deltademocpu/code/delta_driver/part-00000-6457272b-ca2d-495b-8339-bd52b93ed79e-c000.snappy.parquet',\n '/mnt/batch/tasks/shared/LS_root/mounts/clusters/deltademocpu/code/delta_driver/part-00001-0b71797c-c968-4aee-a111-88b3e54fd36d-c000.snappy.parquet',\n '/mnt/batch/tasks/shared/LS_root/mounts/clusters/deltademocpu/code/delta_driver/part-00002-b3b60210-f2c8-4b02-bbc3-c290556f83b6-c000.snappy.parquet',\n '/mnt/batch/tasks/shared/LS_root/mounts/clusters/deltademocpu/code/delta_driver/part-00003-d90dfe34-5f2c-4428-a49c-ae056d737e7e-c000.snappy.parquet',\n '/mnt/batch/tasks/shared/LS_root/mounts/clusters/deltademocpu/code/delta_driver/part-00004-d22b1ec0-1224-4d72-9fd7-7c3d3d175a2c-c000.snappy.parquet',\n '/mnt/batch/tasks/shared/LS_root/mounts/clusters/deltademocpu/code/delta_driver/part-00005-ad9dee32-9d9e-48ae-b514-888e9bcda997-c000.snappy.parquet',\n '/mnt/batch/tasks/shared/LS_root/mounts/clusters/deltademocpu/code/delta_driver/part-00006-6c65e651-2efb-4150-8d4d-d572213b20a5-c000.snappy.parquet',\n '/mnt/batch/tasks/shared/LS_root/mounts/clusters/deltademocpu/code/delta_driver/part-00007-59ac8142-44a8-4073-ad49-75cadab882d2-c000.snappy.parquet']"
          },
          "metadata": {}
        }
      ],
      "execution_count": 2,
      "metadata": {},
      "id": "a24b150c"
    },
    {
      "cell_type": "code",
      "source": [
        "from deltalake import DeltaTable\n",
        "dt = DeltaTable(\"/mnt/batch/tasks/shared/LS_root/mounts/clusters/deltademocpu/code/delta_driver/\")\n",
        "dt.version()"
      ],
      "outputs": [
        {
          "output_type": "execute_result",
          "execution_count": 19,
          "data": {
            "text/plain": "0"
          },
          "metadata": {}
        }
      ],
      "execution_count": 19,
      "metadata": {
        "gather": {
          "logged": 1623351330144
        }
      },
      "id": "a9506f38"
    },
    {
      "cell_type": "code",
      "source": [
        "dt.files()"
      ],
      "outputs": [
        {
          "output_type": "execute_result",
          "execution_count": 20,
          "data": {
            "text/plain": "['part-00000-6457272b-ca2d-495b-8339-bd52b93ed79e-c000.snappy.parquet',\n 'part-00001-0b71797c-c968-4aee-a111-88b3e54fd36d-c000.snappy.parquet',\n 'part-00002-b3b60210-f2c8-4b02-bbc3-c290556f83b6-c000.snappy.parquet',\n 'part-00003-d90dfe34-5f2c-4428-a49c-ae056d737e7e-c000.snappy.parquet',\n 'part-00004-d22b1ec0-1224-4d72-9fd7-7c3d3d175a2c-c000.snappy.parquet',\n 'part-00005-ad9dee32-9d9e-48ae-b514-888e9bcda997-c000.snappy.parquet',\n 'part-00006-6c65e651-2efb-4150-8d4d-d572213b20a5-c000.snappy.parquet',\n 'part-00007-59ac8142-44a8-4073-ad49-75cadab882d2-c000.snappy.parquet']"
          },
          "metadata": {}
        }
      ],
      "execution_count": 20,
      "metadata": {
        "gather": {
          "logged": 1623351332614
        }
      },
      "id": "2f19cec3"
    },
    {
      "cell_type": "code",
      "source": [
        "table= dt.to_pyarrow_table()\n",
        "# Convert back to pandas\n",
        "df_pandas = table.to_pandas()"
      ],
      "outputs": [],
      "execution_count": 23,
      "metadata": {
        "collapsed": true,
        "jupyter": {
          "source_hidden": false,
          "outputs_hidden": false
        },
        "nteract": {
          "transient": {
            "deleting": false
          }
        },
        "gather": {
          "logged": 1623351494242
        }
      },
      "id": "f875b214-ab14-4910-b80b-f9afd9a17991"
    },
    {
      "cell_type": "code",
      "source": [
        "df_pandas"
      ],
      "outputs": [
        {
          "output_type": "execute_result",
          "execution_count": 25,
          "data": {
            "text/plain": "             id  target  ps_ind_01  ps_ind_02_cat  ps_ind_03  ps_ind_04_cat  \\\n0             7       0          2              2          5              1   \n1             9       0          1              1          7              0   \n2            13       0          5              4          9              1   \n3            16       0          0              1          2              0   \n4            17       0          0              2          0              1   \n...         ...     ...        ...            ...        ...            ...   \n595207  1488013       0          3              1         10              0   \n595208  1488016       0          5              1          3              0   \n595209  1488017       0          1              1         10              0   \n595210  1488021       0          5              2          3              1   \n595211  1488027       0          0              1          8              0   \n\n        ps_ind_05_cat  ps_ind_06_bin  ps_ind_07_bin  ps_ind_08_bin  ...  \\\n0                   0              0              1              0  ...   \n1                   0              0              0              1  ...   \n2                   0              0              0              1  ...   \n3                   0              1              0              0  ...   \n4                   0              1              0              0  ...   \n...               ...            ...            ...            ...  ...   \n595207              0              0              0              0  ...   \n595208              0              0              0              0  ...   \n595209              0              1              0              0  ...   \n595210              0              0              0              1  ...   \n595211              0              1              0              0  ...   \n\n        ps_calc_11  ps_calc_12  ps_calc_13  ps_calc_14  ps_calc_15_bin  \\\n0                9           1           5           8               0   \n1                3           1           1           9               0   \n2                4           2           7           7               0   \n3                2           2           4           9               0   \n4                3           1           1           3               0   \n...            ...         ...         ...         ...             ...   \n595207           4           1           9           6               0   \n595208           4           1           3           8               1   \n595209           3           2           2           6               0   \n595210           4           1           4           2               0   \n595211           4           4           3           8               0   \n\n        ps_calc_16_bin  ps_calc_17_bin  ps_calc_18_bin  ps_calc_19_bin  \\\n0                    1               1               0               0   \n1                    1               1               0               1   \n2                    1               1               0               1   \n3                    0               0               0               0   \n4                    0               0               1               1   \n...                ...             ...             ...             ...   \n595207               1               1               0               1   \n595208               0               1               0               1   \n595209               0               1               0               0   \n595210               1               1               1               0   \n595211               1               0               0               0   \n\n        ps_calc_20_bin  \n0                    1  \n1                    0  \n2                    0  \n3                    0  \n4                    0  \n...                ...  \n595207               1  \n595208               1  \n595209               0  \n595210               0  \n595211               0  \n\n[595212 rows x 59 columns]",
            "text/html": "<div>\n<style scoped>\n    .dataframe tbody tr th:only-of-type {\n        vertical-align: middle;\n    }\n\n    .dataframe tbody tr th {\n        vertical-align: top;\n    }\n\n    .dataframe thead th {\n        text-align: right;\n    }\n</style>\n<table border=\"1\" class=\"dataframe\">\n  <thead>\n    <tr style=\"text-align: right;\">\n      <th></th>\n      <th>id</th>\n      <th>target</th>\n      <th>ps_ind_01</th>\n      <th>ps_ind_02_cat</th>\n      <th>ps_ind_03</th>\n      <th>ps_ind_04_cat</th>\n      <th>ps_ind_05_cat</th>\n      <th>ps_ind_06_bin</th>\n      <th>ps_ind_07_bin</th>\n      <th>ps_ind_08_bin</th>\n      <th>...</th>\n      <th>ps_calc_11</th>\n      <th>ps_calc_12</th>\n      <th>ps_calc_13</th>\n      <th>ps_calc_14</th>\n      <th>ps_calc_15_bin</th>\n      <th>ps_calc_16_bin</th>\n      <th>ps_calc_17_bin</th>\n      <th>ps_calc_18_bin</th>\n      <th>ps_calc_19_bin</th>\n      <th>ps_calc_20_bin</th>\n    </tr>\n  </thead>\n  <tbody>\n    <tr>\n      <th>0</th>\n      <td>7</td>\n      <td>0</td>\n      <td>2</td>\n      <td>2</td>\n      <td>5</td>\n      <td>1</td>\n      <td>0</td>\n      <td>0</td>\n      <td>1</td>\n      <td>0</td>\n      <td>...</td>\n      <td>9</td>\n      <td>1</td>\n      <td>5</td>\n      <td>8</td>\n      <td>0</td>\n      <td>1</td>\n      <td>1</td>\n      <td>0</td>\n      <td>0</td>\n      <td>1</td>\n    </tr>\n    <tr>\n      <th>1</th>\n      <td>9</td>\n      <td>0</td>\n      <td>1</td>\n      <td>1</td>\n      <td>7</td>\n      <td>0</td>\n      <td>0</td>\n      <td>0</td>\n      <td>0</td>\n      <td>1</td>\n      <td>...</td>\n      <td>3</td>\n      <td>1</td>\n      <td>1</td>\n      <td>9</td>\n      <td>0</td>\n      <td>1</td>\n      <td>1</td>\n      <td>0</td>\n      <td>1</td>\n      <td>0</td>\n    </tr>\n    <tr>\n      <th>2</th>\n      <td>13</td>\n      <td>0</td>\n      <td>5</td>\n      <td>4</td>\n      <td>9</td>\n      <td>1</td>\n      <td>0</td>\n      <td>0</td>\n      <td>0</td>\n      <td>1</td>\n      <td>...</td>\n      <td>4</td>\n      <td>2</td>\n      <td>7</td>\n      <td>7</td>\n      <td>0</td>\n      <td>1</td>\n      <td>1</td>\n      <td>0</td>\n      <td>1</td>\n      <td>0</td>\n    </tr>\n    <tr>\n      <th>3</th>\n      <td>16</td>\n      <td>0</td>\n      <td>0</td>\n      <td>1</td>\n      <td>2</td>\n      <td>0</td>\n      <td>0</td>\n      <td>1</td>\n      <td>0</td>\n      <td>0</td>\n      <td>...</td>\n      <td>2</td>\n      <td>2</td>\n      <td>4</td>\n      <td>9</td>\n      <td>0</td>\n      <td>0</td>\n      <td>0</td>\n      <td>0</td>\n      <td>0</td>\n      <td>0</td>\n    </tr>\n    <tr>\n      <th>4</th>\n      <td>17</td>\n      <td>0</td>\n      <td>0</td>\n      <td>2</td>\n      <td>0</td>\n      <td>1</td>\n      <td>0</td>\n      <td>1</td>\n      <td>0</td>\n      <td>0</td>\n      <td>...</td>\n      <td>3</td>\n      <td>1</td>\n      <td>1</td>\n      <td>3</td>\n      <td>0</td>\n      <td>0</td>\n      <td>0</td>\n      <td>1</td>\n      <td>1</td>\n      <td>0</td>\n    </tr>\n    <tr>\n      <th>...</th>\n      <td>...</td>\n      <td>...</td>\n      <td>...</td>\n      <td>...</td>\n      <td>...</td>\n      <td>...</td>\n      <td>...</td>\n      <td>...</td>\n      <td>...</td>\n      <td>...</td>\n      <td>...</td>\n      <td>...</td>\n      <td>...</td>\n      <td>...</td>\n      <td>...</td>\n      <td>...</td>\n      <td>...</td>\n      <td>...</td>\n      <td>...</td>\n      <td>...</td>\n      <td>...</td>\n    </tr>\n    <tr>\n      <th>595207</th>\n      <td>1488013</td>\n      <td>0</td>\n      <td>3</td>\n      <td>1</td>\n      <td>10</td>\n      <td>0</td>\n      <td>0</td>\n      <td>0</td>\n      <td>0</td>\n      <td>0</td>\n      <td>...</td>\n      <td>4</td>\n      <td>1</td>\n      <td>9</td>\n      <td>6</td>\n      <td>0</td>\n      <td>1</td>\n      <td>1</td>\n      <td>0</td>\n      <td>1</td>\n      <td>1</td>\n    </tr>\n    <tr>\n      <th>595208</th>\n      <td>1488016</td>\n      <td>0</td>\n      <td>5</td>\n      <td>1</td>\n      <td>3</td>\n      <td>0</td>\n      <td>0</td>\n      <td>0</td>\n      <td>0</td>\n      <td>0</td>\n      <td>...</td>\n      <td>4</td>\n      <td>1</td>\n      <td>3</td>\n      <td>8</td>\n      <td>1</td>\n      <td>0</td>\n      <td>1</td>\n      <td>0</td>\n      <td>1</td>\n      <td>1</td>\n    </tr>\n    <tr>\n      <th>595209</th>\n      <td>1488017</td>\n      <td>0</td>\n      <td>1</td>\n      <td>1</td>\n      <td>10</td>\n      <td>0</td>\n      <td>0</td>\n      <td>1</td>\n      <td>0</td>\n      <td>0</td>\n      <td>...</td>\n      <td>3</td>\n      <td>2</td>\n      <td>2</td>\n      <td>6</td>\n      <td>0</td>\n      <td>0</td>\n      <td>1</td>\n      <td>0</td>\n      <td>0</td>\n      <td>0</td>\n    </tr>\n    <tr>\n      <th>595210</th>\n      <td>1488021</td>\n      <td>0</td>\n      <td>5</td>\n      <td>2</td>\n      <td>3</td>\n      <td>1</td>\n      <td>0</td>\n      <td>0</td>\n      <td>0</td>\n      <td>1</td>\n      <td>...</td>\n      <td>4</td>\n      <td>1</td>\n      <td>4</td>\n      <td>2</td>\n      <td>0</td>\n      <td>1</td>\n      <td>1</td>\n      <td>1</td>\n      <td>0</td>\n      <td>0</td>\n    </tr>\n    <tr>\n      <th>595211</th>\n      <td>1488027</td>\n      <td>0</td>\n      <td>0</td>\n      <td>1</td>\n      <td>8</td>\n      <td>0</td>\n      <td>0</td>\n      <td>1</td>\n      <td>0</td>\n      <td>0</td>\n      <td>...</td>\n      <td>4</td>\n      <td>4</td>\n      <td>3</td>\n      <td>8</td>\n      <td>0</td>\n      <td>1</td>\n      <td>0</td>\n      <td>0</td>\n      <td>0</td>\n      <td>0</td>\n    </tr>\n  </tbody>\n</table>\n<p>595212 rows × 59 columns</p>\n</div>"
          },
          "metadata": {}
        }
      ],
      "execution_count": 25,
      "metadata": {
        "collapsed": true,
        "jupyter": {
          "source_hidden": false,
          "outputs_hidden": false
        },
        "nteract": {
          "transient": {
            "deleting": false
          }
        },
        "gather": {
          "logged": 1623351522779
        }
      },
      "id": "f5ac3889-5a55-4fc5-9efd-e2613c49f419"
    },
    {
      "cell_type": "code",
      "source": [],
      "outputs": [],
      "execution_count": null,
      "metadata": {
        "collapsed": true,
        "jupyter": {
          "source_hidden": false,
          "outputs_hidden": false
        },
        "nteract": {
          "transient": {
            "deleting": false
          }
        }
      },
      "id": "427c697a-acea-4f3b-a93a-788cceff55a7"
    }
  ],
  "metadata": {
    "kernelspec": {
      "name": "python3-azureml",
      "language": "python",
      "display_name": "Python 3.6 - AzureML"
    },
    "language_info": {
      "name": "python",
      "version": "3.6.9",
      "mimetype": "text/x-python",
      "codemirror_mode": {
        "name": "ipython",
        "version": 3
      },
      "pygments_lexer": "ipython3",
      "nbconvert_exporter": "python",
      "file_extension": ".py"
    },
    "kernel_info": {
      "name": "python3-azureml"
    },
    "nteract": {
      "version": "nteract-front-end@1.0.0"
    }
  },
  "nbformat": 4,
  "nbformat_minor": 5
}